{
 "cells": [
  {
   "cell_type": "code",
   "execution_count": null,
   "id": "c964bb8a-c503-47cb-908d-d976553ee482",
   "metadata": {},
   "outputs": [],
   "source": [
    "with open(\"explore/Test.md\") as f:\n",
    "    doc_md = f.read()\n",
    "#print(doc_md)\n",
    "\n",
    "with open(\"explore/chatmol.md\") as f:\n",
    "    doc2_md = f.read()\n",
    "print(doc2_md)"
   ]
  },
  {
   "cell_type": "code",
   "execution_count": null,
   "id": "dac74822-f6f8-4920-bc2c-123889e5dee4",
   "metadata": {},
   "outputs": [],
   "source": [
    "from utils.open_rag import *\n",
    "        \n",
    "# Example usage\n",
    "markdown_text = \"\"\"\n",
    "# Introduction\n",
    "\n",
    "Welcome to our guide.\n",
    "\n",
    "Here we will cover several important aspects.\n",
    "\n",
    "<pre>\n",
    "Author    James Lee\n",
    "          ABC Inc,\n",
    "          USA\n",
    "\n",
    "April 25, 2024\n",
    "</pre>\n",
    "\n",
    "## Setup Instructions\n",
    "\n",
    "First, ensure you have the following tools installed:\n",
    "\n",
    "- Tool A\n",
    "- Tool B\n",
    "\n",
    "Please follow these steps to get started.\n",
    "\n",
    "## Configuration\n",
    "\n",
    "Modify the configuration files as shown below:\n",
    "\n",
    "```\n",
    "config_setting_1 = true\n",
    "config_setting_2 = false\n",
    "```\n",
    "\n",
    "Remember to restart the service after changing the config files.\n",
    "\n",
    "## Data Format\n",
    "\n",
    "Our system uses the following data structure:\n",
    "\n",
    "Table 1: Table of names and their values.\n",
    "| ID | Name   | Value |\n",
    "|----|--------|-------|\n",
    "| 1  | Item 1 | 100   |\n",
    "| 2  | Item 2 | 200   |\n",
    "Note: more data will be added.\n",
    "\n",
    "Please make sure your data conforms to this table.\n",
    "\n",
    "# Summary\n",
    "\n",
    "This guide should help you get started with the basic setup and configuration.\n",
    "\n",
    "For more details, visit our [website](http://example.com).\n",
    "\n",
    "Thank you for reading!\n",
    "\"\"\"\n",
    "\n",
    "# Create Q&A agent\n",
    "qna_agent = QnAAgent(markdown_text, embedding_function=get_embedding_openai)\n",
    "\n",
    "# Example of asking a question\n",
    "question = \"How do I configure the settings?\"\n",
    "answer = qna_agent.answer_question(question)\n",
    "print(\"\\nAnswer:\\n\")\n",
    "print(answer)"
   ]
  },
  {
   "cell_type": "code",
   "execution_count": null,
   "id": "a760cac5-d6ab-4613-b0b0-25ea23148de3",
   "metadata": {},
   "outputs": [],
   "source": [
    "# Create Q&A agent\n",
    "time1 = time.time()\n",
    "qna_agent = QnAAgent(markdown_text,embedding_function=get_embedding_openai)\n",
    "time2 = time.time()\n",
    "print(\"Time A = \", time2-time1)\n",
    "qna_agent2 = QnAAgent(doc_md,embedding_function=get_embedding_openai)\n",
    "time3 = time.time()\n",
    "print(\"Time B = \", time3-time2)"
   ]
  },
  {
   "cell_type": "code",
   "execution_count": null,
   "id": "5e585972-de84-4489-ad0b-9e3cc51da096",
   "metadata": {},
   "outputs": [],
   "source": [
    "# Example of asking a question\n",
    "time1 = time.time()\n",
    "question = \"How do I configure the settings?\"\n",
    "answer = qna_agent.answer_question(question)\n",
    "print(\"\\nAnswer:\\n\")\n",
    "print(answer)\n",
    "\n",
    "question = \"What kind of tools need to be installed according to the instruction?\"\n",
    "answer = qna_agent.answer_question(question)\n",
    "print(\"\\nAnswer:\\n\")\n",
    "print(answer)\n",
    "\n",
    "print(\"Time = \", time.time()-time1)"
   ]
  },
  {
   "cell_type": "code",
   "execution_count": null,
   "id": "4d73a10a-4362-45e2-a38f-ac540bf17345",
   "metadata": {},
   "outputs": [],
   "source": []
  },
  {
   "cell_type": "code",
   "execution_count": null,
   "id": "4946f8b0-99cf-4755-b8fe-92bb9a0d6c54",
   "metadata": {},
   "outputs": [],
   "source": [
    "time1 = time.time()\n",
    "query = \"What is ChatMol?\"\n",
    "answer = qna_agent2.answer_question(query,show_content=True)\n",
    "print(\"--------------------------------------\")\n",
    "print(\"Q:\",query)\n",
    "print(\"A:\",answer)\n",
    "time2 = time.time()\n",
    "\n",
    "print(\"Time = \", time2-time1)\n"
   ]
  },
  {
   "cell_type": "code",
   "execution_count": null,
   "id": "b91cc3f7-debb-4658-8b8f-dcf77e20c9e0",
   "metadata": {},
   "outputs": [],
   "source": [
    "time1 = time.time()\n",
    "query = \"Show the original abstract of this paper\"\n",
    "answer = qna_agent2.answer_question(query,show_content=True)\n",
    "print(\"--------------------------------------\")\n",
    "print(\"Q:\",query)\n",
    "print(\"A:\",answer)\n",
    "time2 = time.time()\n",
    "\n",
    "print(\"Time = \", time2-time1)\n"
   ]
  },
  {
   "cell_type": "code",
   "execution_count": null,
   "id": "2964874e",
   "metadata": {},
   "outputs": [],
   "source": [
    "import numpy as np\n",
    "from openai import OpenAI\n",
    "\n",
    "client = OpenAI()\n",
    "\n",
    "\n",
    "def get_embedding(sentences, model=\"text-embedding-3-small\"):\n",
    "   data = client.embeddings.create(input = sentences, model=model).data\n",
    "   vecs = np.array([data[i].embedding for i in range(len(data))])\n",
    "   return vecs"
   ]
  },
  {
   "cell_type": "code",
   "execution_count": null,
   "id": "224cbd0c-ea85-42d5-876d-16c450748c1e",
   "metadata": {},
   "outputs": [],
   "source": [
    "ex = get_embedding(['This is a test','The second test'])\n",
    "print(ex)"
   ]
  },
  {
   "cell_type": "code",
   "execution_count": null,
   "id": "99bedf1f-6f36-42c0-aed1-222d58da110d",
   "metadata": {},
   "outputs": [],
   "source": []
  }
 ],
 "metadata": {
  "kernelspec": {
   "display_name": "Python 3 (ipykernel)",
   "language": "python",
   "name": "python3"
  },
  "language_info": {
   "codemirror_mode": {
    "name": "ipython",
    "version": 3
   },
   "file_extension": ".py",
   "mimetype": "text/x-python",
   "name": "python",
   "nbconvert_exporter": "python",
   "pygments_lexer": "ipython3",
   "version": "3.10.14"
  }
 },
 "nbformat": 4,
 "nbformat_minor": 5
}
